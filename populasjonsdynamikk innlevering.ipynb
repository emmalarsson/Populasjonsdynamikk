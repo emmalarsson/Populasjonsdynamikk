{
 "cells": [
  {
   "cell_type": "markdown",
   "metadata": {},
   "source": [
    "# Populasjonsdynamikk"
   ]
  },
  {
   "cell_type": "markdown",
   "metadata": {},
   "source": [
    "## Oppgave 1"
   ]
  },
  {
   "cell_type": "markdown",
   "metadata": {},
   "source": [
    "Importerer nødvendige biblioteker:"
   ]
  },
  {
   "cell_type": "code",
   "execution_count": 3,
   "metadata": {},
   "outputs": [],
   "source": [
    "from pylab import *"
   ]
  },
  {
   "cell_type": "markdown",
   "metadata": {},
   "source": [
    "1. K' (t) = k * K(t) der k er prosentvis økning av kaniner per måned. Denne modellen fungerer slik at K(t) er antallet kaniner ved ett punkt, og det multiplisert med den prosentvise økningen k blir hvor mange kaniner populasjonen øker med per måned, stigningstallet til grafen, altså K'(t)"
   ]
  },
  {
   "cell_type": "markdown",
   "metadata": {},
   "source": [
    "2. Initialbetingelsene er k = =0.05, altså 5%"
   ]
  },
  {
   "cell_type": "markdown",
   "metadata": {},
   "source": [
    "3. Eulers metode:"
   ]
  },
  {
   "cell_type": "code",
   "execution_count": 4,
   "metadata": {},
   "outputs": [
    {
     "data": {
      "text/plain": [
       "[<matplotlib.lines.Line2D at 0x10d251828>]"
      ]
     },
     "execution_count": 4,
     "metadata": {},
     "output_type": "execute_result"
    },
    {
     "data": {
      "image/png": "[encoded data removed]",
      "text/plain": [
       "<Figure size 432x288 with 1 Axes>"
      ]
     },
     "metadata": {},
     "output_type": "display_data"
    }
   ],
   "source": [
    "t0 = 0\n",
    "K0 = 200 #antall kaniner ved t=0\n",
    "k = 0.05 #porsentvis økning, altså 5%\n",
    "\n",
    "N = 100000\n",
    "tid = 20\n",
    "dt = tid/(N-1)\n",
    "\n",
    "t = zeros(N)\n",
    "K = zeros(N)\n",
    "Kder = zeros(N)\n",
    "\n",
    "t[0] = t0\n",
    "K[0] = K0\n",
    "\n",
    "\n",
    "for i in range(N-1):\n",
    "    Kder[i] = k * K[i]\n",
    "    K[i+1] = K[i] + Kder[i]*dt\n",
    "    t[i+1] = t[i] + dt\n",
    "    \n",
    "\n",
    "title(\"vekst i harepopulasjon\")\n",
    "xlabel(\"antall måneder t\")\n",
    "ylabel(\"antall harer H\")\n",
    "ylim(0,600)\n",
    "grid()    \n",
    "plot(t,K)"
   ]
  },
  {
   "cell_type": "markdown",
   "metadata": {},
   "source": [
    "4. utviklingen er eksponentiell, som vil si at kaninpopulasjonen øker med tiden"
   ]
  },
  {
   "cell_type": "markdown",
   "metadata": {},
   "source": [
    "5. jeg fikk ikke satt inn bilde av alle tre grafene, men dersom jeg setter inn at K0 = 2, K0 = 5 og K0 = 200 ser man at grafen blir mye brattere jo høyere K0 er, dette fordi grafen øker eksponentielt."
   ]
  },
  {
   "cell_type": "markdown",
   "metadata": {},
   "source": [
    "6. k er den porsentvise økningen av kaniner per tidsenhet. Dersom k = 0.5, vil i dette tilfellet kaninpopulasjonen øke med 50% hver måned, noe som er veldig urealistisk. En mer realistisk verdi hadde f eks vært ................."
   ]
  },
  {
   "cell_type": "markdown",
   "metadata": {},
   "source": [
    "7. dersom man endrer k fra 5% til 10% eller 50% vil man se at kurven blir svært mye brattere og populasjonen øker mye mer over tilsvarende tidsperiode med 5%. "
   ]
  },
  {
   "cell_type": "markdown",
   "metadata": {},
   "source": [
    "8. Dersom vi endrer tiden fra år til måneder vil grafen se helt lik ut, med mindre man setter T = 12*antall måneder. Da vil vi få et bilde av populasjonen over en mye lengre tidsperiode, og antallet vil da ha økt mye mer. k vil bli økning prosentvis per år i stedet for per måned, så veksten vil bli helt annerledes."
   ]
  },
  {
   "cell_type": "markdown",
   "metadata": {},
   "source": [
    "9. funksjonsuttrykket K er en eksponentialfunksjon."
   ]
  },
  {
   "cell_type": "markdown",
   "metadata": {},
   "source": [
    "## Oppgave 2"
   ]
  },
  {
   "cell_type": "markdown",
   "metadata": {},
   "source": [
    "1. B0 = 5000, fordi vi starter med 5000 bakterier i petriskålen"
   ]
  },
  {
   "cell_type": "markdown",
   "metadata": {},
   "source": [
    "2. Et økosystem har en viss bæreevne b for f eks en art. Det betyr at det bare kan være opp til en viss mengde av den arten i dette økosystemet for at alle skal få nok mat og det ikke skal bli overbelastet. Bæreevnen blir bestemt av mengden mat, antall andre rovdyr som forsøker å spise denne arten, klima og størrelse."
   ]
  },
  {
   "cell_type": "markdown",
   "metadata": {},
   "source": [
    "3. B'(t) = k * B(t) er en bra modell for økningen i antallet bakterier fordi B'(t) sier noe om hvor mange bakterier antallet øker med fra en tidsenhet til en annen, og k * B(t) viser hvor mye antallet har økt med etter en tidsenhet utifra hvor mange det var fra før. "
   ]
  },
  {
   "cell_type": "markdown",
   "metadata": {},
   "source": [
    "### I begynnelsen vokste antallet bakterier med 900"
   ]
  },
  {
   "cell_type": "markdown",
   "metadata": {},
   "source": [
    "1. Denne har jeg ikke fått til... får at k = 0.18"
   ]
  },
  {
   "cell_type": "markdown",
   "metadata": {},
   "source": [
    "2. Løser difflikningen med eulers metode"
   ]
  },
  {
   "cell_type": "code",
   "execution_count": 9,
   "metadata": {},
   "outputs": [
    {
     "data": {
      "text/plain": [
       "[<matplotlib.lines.Line2D at 0x11aa3e5c0>]"
      ]
     },
     "execution_count": 9,
     "metadata": {},
     "output_type": "execute_result"
    },
    {
     "data": {
      "image/png": "[encoded data removed]",
      "text/plain": [
       "<Figure size 432x288 with 1 Axes>"
      ]
     },
     "metadata": {},
     "output_type": "display_data"
    }
   ],
   "source": [
    "B0 = 5000       #antall bakterier ved start\n",
    "k = 0.18        #stigningstall\n",
    "b = 50000       #bæreevne\n",
    "\n",
    "N = 100000\n",
    "tid = 50        #antall timer\n",
    "dt = tid/(N-1)\n",
    "\n",
    "t = zeros(N)\n",
    "B = zeros(N)\n",
    "Bder = zeros(N)\n",
    "\n",
    "t[0] = t0\n",
    "B[0] = B0\n",
    "\n",
    "\n",
    "for i in range(N-1):\n",
    "    Bder[i] = k * B[i]\n",
    "    B[i+1] = B[i] + Bder[i]*dt\n",
    "    t[i+1] = t[i] + dt\n",
    "    \n",
    "for i in range(N-1):\n",
    "    Bder[i] = k * B[i] * (1-B[i]/b)\n",
    "    B[i+1] = B[i] + Bder[i]*dt\n",
    "    t[i+1] = t[i] + dt\n",
    "    \n",
    "\n",
    "title(\"Vekst bakterier\")\n",
    "xlabel(\"Antall timer t\")\n",
    "ylabel(\"Antall bakterier B\")\n",
    "ylim(4000,55000)\n",
    "grid()    \n",
    "plot(t,B)"
   ]
  },
  {
   "cell_type": "markdown",
   "metadata": {},
   "source": [
    "3. Dersom jeg øker k, ser jeg at grafen vil bli brattere, og populasjonen vil nå bæreevnen etter et kortere antall timer. Dersom jeg øker b "
   ]
  },
  {
   "cell_type": "markdown",
   "metadata": {},
   "source": [
    "## Oppgave 3"
   ]
  },
  {
   "cell_type": "markdown",
   "metadata": {},
   "source": [
    "1.\n",
    "\n",
    "$B'(t) = a\\cdot B(t) - b\\cdot B(t)R(t)$\n",
    "\n",
    "$R'(t) = c\\cdot B(t)R(t) - d \\cdot R(t)$"
   ]
  },
  {
   "cell_type": "markdown",
   "metadata": {},
   "source": [
    "Her betyr B'(t) og R'(t) stigninstallet, altså økning i antall rovdyr og byttedyr fra en tidsenhet til en annen. \n",
    "a*B(t) er antallet byttedyr som populasjonen stiger med på en tidsenhet, deretter trekker man fra b* B(t)R(t) for antallet byttedyr som blir spist av rovdyr. c*B(t)R(t) er antallet rovdyr populasjonen øker med utifra hvor mange byttedyr som finnes, ettersom det er byttedyrene de lever på. Til slutt må man da trekke fra d*R(t) som er naturlig naturlig nedgangsrate for Isbjørn "
   ]
  },
  {
   "cell_type": "markdown",
   "metadata": {},
   "source": [
    "2. Denne fikk jeg ikke helt til å fungere, men her er det jeg har:\n",
    "\n",
    "Jeg antar at grafene vil vise at antallet Isbjørner varier i takt med antall seler, ettersom dette er rovdyr/byttedyr."
   ]
  },
  {
   "cell_type": "code",
   "execution_count": 10,
   "metadata": {},
   "outputs": [
    {
     "name": "stderr",
     "output_type": "stream",
     "text": [
      "/anaconda3/lib/python3.6/site-packages/ipykernel_launcher.py:29: RuntimeWarning: overflow encountered in double_scalars\n",
      "/anaconda3/lib/python3.6/site-packages/ipykernel_launcher.py:29: RuntimeWarning: invalid value encountered in double_scalars\n",
      "/anaconda3/lib/python3.6/site-packages/ipykernel_launcher.py:30: RuntimeWarning: overflow encountered in double_scalars\n"
     ]
    },
    {
     "data": {
      "image/png": "[encoded data removed]",
      "text/plain": [
       "<Figure size 432x288 with 2 Axes>"
      ]
     },
     "metadata": {},
     "output_type": "display_data"
    }
   ],
   "source": [
    "\n",
    "S0 = 100\n",
    "I0 = 100\n",
    "\n",
    "\n",
    "N = 100000\n",
    "tid = 10000000\n",
    "dt = tid/(N-1)\n",
    "\n",
    "a = 0.25\n",
    "b = 0.002\n",
    "c = 0.1\n",
    "d = 0.001\n",
    "e = 0.06\n",
    "\n",
    "\n",
    "t = zeros(N)\n",
    "S = zeros(N)\n",
    "Sder = zeros(N)\n",
    "I = zeros(N)\n",
    "Ider = zeros(N)\n",
    "\n",
    "S[0] = S0\n",
    "I[0] = I0\n",
    "\n",
    "\n",
    "#eulers metode\n",
    "for i in range(N-1):\n",
    "    Sder[i] = a*S[i]*(1-S[i]/b) - c*S[i]*I[i]\n",
    "    Ider[i] = d*I[i]*S[i] - e*I[i]\n",
    "    S[i+1] = S[i] + Sder[i] * dt\n",
    "    I[i+1] = I[i] + Ider[i] * dt\n",
    "    t[i+1] = t[i] + dt\n",
    "    \n",
    " \n",
    "    \n",
    "#plotting\n",
    "fig = figure()\n",
    "ax = fig.add_subplot(111)\n",
    "data1 = ax.plot(t, S, \"-b\", label = \"Seler\")\n",
    "ax2 = ax.twinx()\n",
    "data2 = ax2.plot(t, I, \"-r\", label = \"Isbjørner\")\n",
    "\n",
    "data = data1 + data2\n",
    "datatittel = [l.get_label() for l in data]\n",
    "ax.legend(data, datatittel, loc=0)\n",
    "\n",
    "ax.grid()\n",
    "ax.set_xlabel(\"tid\")\n",
    "ax.set_ylabel(\"Antall Seler\")\n",
    "ax2.set_ylabel(\"Antall Isbjørner\")\n",
    "ax2.set_ylim(-100, 100 )\n",
    "ax.set_ylim(-100, 100)\n",
    "plt.show()"
   ]
  },
  {
   "cell_type": "markdown",
   "metadata": {},
   "source": [
    "3. Bæreevnen trengs ikke for Isbjørn siden det ikke vil være uendelig mengde mat(seler), og dermed vil ikke isbjørnpopulasjonen nå bæreevnen"
   ]
  },
  {
   "cell_type": "code",
   "execution_count": null,
   "metadata": {},
   "outputs": [],
   "source": []
  }
 ],
 "metadata": {
  "kernelspec": {
   "display_name": "Python 3",
   "language": "python",
   "name": "python3"
  },
  "language_info": {
   "codemirror_mode": {
    "name": "ipython",
    "version": 3
   },
   "file_extension": ".py",
   "mimetype": "text/x-python",
   "name": "python",
   "nbconvert_exporter": "python",
   "pygments_lexer": "ipython3",
   "version": "3.6.5"
  }
 },
 "nbformat": 4,
 "nbformat_minor": 2
}
